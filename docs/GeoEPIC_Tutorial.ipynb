{
 "cells": [
  {
   "cell_type": "markdown",
   "id": "725b7569",
   "metadata": {},
   "source": [
    "# GeoEPIC Tutorial\n",
    "\n",
    "- This notebook is an end-to-end tutorial for the **GeoEPIC** Python package. \n",
    "- It walks through input file preparation, single-site and batched simulations, and a model **calibration workflow**.\n",
    "\n",
    "<!-- ![Overview](./tutorial_assests/geo_epic_overview.png) -->\n",
    "<div align=\"center\">\n",
    "<img src=\"./tutorial_assests/geo_epic_overview.png\" width=\"600\">\n",
    "</div>"
   ]
  },
  {
   "cell_type": "markdown",
   "id": "cb97ad57",
   "metadata": {},
   "source": [
    "## 1) Prerequisites & Installation\n",
    "\n",
    "**Requirements:**\n",
    "- Windows OS\n",
    "- VSCode or similar IDE (Recommended)\n",
    "- Anaconda package manager\n",
    "\n",
    "**Recommended setup :**\n",
    "\n",
    "1. Download the setup script from: https://smarsgroup.github.io/geo_epic_win/epic_setup.bat and execute the below commands in command prompt.\n",
    "\n",
    "    ```bat\n",
    "    call epic_setup.bat\n",
    "    conda activate epic_env\n",
    "    ```\n",
    "    The setup script will install Anaconda if it doesn't exist already, then creates a new conda environment named `epic_env` with GeoEPIC installed. \n",
    "\n",
    "2. Change the Python kernel of this notebook to the `epic_env` conda environment. Run the cell below to verify the installation "
   ]
  },
  {
   "cell_type": "code",
   "execution_count": 6,
   "id": "9435bb81",
   "metadata": {},
   "outputs": [
    {
     "name": "stdout",
     "output_type": "stream",
     "text": [
      "GeoEPIC not detected.\n"
     ]
    }
   ],
   "source": [
    "try:\n",
    "    from geoEpic.io import SOL, DLY, OPC, SIT\n",
    "    from geoEpic.core import Site, EPICModel, Workspace\n",
    "except Exception as e:\n",
    "    print(\"GeoEPIC not detected.\")\n",
    "\n",
    "try:\n",
    "    import pygmo as pg\n",
    "except Exception as e:\n",
    "    print(\"PyGMO not detected.\", e)"
   ]
  },
  {
   "cell_type": "markdown",
   "id": "b16db8b2",
   "metadata": {},
   "source": [
    "## 2) Create a GeoEPIC Workspace\n",
    "\n",
    "The below command creates a sample workspace folder named 'Test' with sample input files, and the EPIC executable."
   ]
  },
  {
   "cell_type": "code",
   "execution_count": null,
   "id": "7288b99f",
   "metadata": {},
   "outputs": [],
   "source": [
    "# !geo_epic workspace -new Test\n",
    "\n",
    "from pathlib import Path\n",
    "workspace_dir = Path('./Test')"
   ]
  },
  {
   "cell_type": "markdown",
   "id": "b7dbb894",
   "metadata": {},
   "source": [
    "Running Epic manually\n",
    "\n",
    "am 2047"
   ]
  },
  {
   "cell_type": "markdown",
   "id": "806158c7",
   "metadata": {},
   "source": [
    "## 3) Input files Preparation\n",
    "\n",
    "`geoEpic.sptial` module provides helpers to build EPIC input files from spatial datasets:\n",
    " - Soil Data: [`USDA-SSURGO`](https://www.nrcs.usda.gov/resources/data-and-reports/soil-survey-geographic-database-ssurgo), [`ISIRC-SoilGrids`](https://soilgrids.org/)\n",
    " - Daily Weather: [`Daymet`](https://daymet.ornl.gov/), [`AgEra5`](https://cds.climate.copernicus.eu/cdsapp#!/dataset/sis-agrometeorological-indicators)\n",
    " - Elevation, Slope: [`GLO-30`](https://registry.opendata.aws/copernicus-dem/), [`SRTM`](https://www2.jpl.nasa.gov/srtm/)\n",
    "\n",
    "These examples require internet access and proper credentials setup.\n",
    "\n",
    "### Study Region: Mead, Nebraska\n",
    "<!-- <div align=\"center\"> -->\n",
    "<div style=\"display: flex; gap: 20px;\">\n",
    "   <img src=\"./tutorial_assests/NE_lst8_2023_August8.png\" width=\"30%\">\n",
    "   <img src=\"./tutorial_assests/USDA_NASS_CDL.png\" width=\"30%\">\n",
    "</div>\n",
    "<!-- </div> -->"
   ]
  },
  {
   "cell_type": "code",
   "execution_count": null,
   "id": "1ba41046",
   "metadata": {},
   "outputs": [],
   "source": [
    "# location of NE-2 site\n",
    "lat, lon = 41.1649,-96.4701"
   ]
  },
  {
   "cell_type": "code",
   "execution_count": null,
   "id": "8dde74fc",
   "metadata": {},
   "outputs": [],
   "source": [
    "from geoEpic.spatial import SSURGO, SoilGrids\n",
    "from geoEpic.io import SOL\n",
    "\n",
    "#fetch soil data from USDA SSURGO\n",
    "soil_ssurgo = SSURGO.fetch(lat=lat, lon=lon)\n",
    "# soil_grids = SoilGrids.fetch(lat=lat, lon=lon) #ISIRC soilgrids\n",
    "soil_ssurgo.save(workspace_dir/'soil'/'ssurgo.SOL')\n",
    "\n",
    "#load an existing SOL file \n",
    "soil = SOL.load(workspace_dir/'soil'/'ssurgo.SOL')\n",
    "soil_ssurgo.layers_df.head()"
   ]
  },
  {
   "cell_type": "code",
   "execution_count": null,
   "id": "5e09d366",
   "metadata": {},
   "outputs": [],
   "source": [
    "from geoEpic.spatial import Daymet, AgEra5\n",
    "from geoEpic.io import DLY\n",
    "\n",
    "dly_daymet = Daymet.fetch(lat=lat, lon=lon)\n",
    "# dly_era5 = AgEra5.fetch(lat=lat, lon=lon)\n",
    "dly_daymet.save(workspace_dir/'weather'/'daily'/'daymt.DLY')\n",
    "dly_daymet.head()"
   ]
  },
  {
   "cell_type": "code",
   "execution_count": null,
   "id": "828bf88f",
   "metadata": {},
   "outputs": [],
   "source": [
    "from geoEpic.spatial import DEM\n",
    "from geoEpic.io import SIT\n",
    "elevation, slope = DEM.fetch(lat=lat, lon=lon)"
   ]
  },
  {
   "cell_type": "markdown",
   "id": "e6885a5c",
   "metadata": {},
   "source": [
    "The crop management file contains information about management practices carried out at the specific site. Each row represents a specific management operation, including crop planting, fertilizer applications, irrigation scheduling, harvesting, and tillage practices. The structure and valid entries for `OPC` files are detailed in the `EPIC1102` user manual."
   ]
  },
  {
   "cell_type": "code",
   "execution_count": null,
   "id": "af7a7d69",
   "metadata": {},
   "outputs": [],
   "source": [
    "from geoEpic.io import OPC\n",
    "opc = OPC.load('./umstead.OPC')\n",
    "# Select auto irrigation implement ID\n",
    "opc.IAUI = 72\n",
    "# Apply fertilizer \n",
    "fertilizer = {'opID':71, 'cropID':2, 'fertID':52,\n",
    "              'date': '2015-04-01', 'OPV1': 160}\n",
    "opc.update(fertilizer)\n",
    "# Remove certain operation(s)\n",
    "opc.remove(opID=71, date='2015-04-01')\n",
    "# Save the OPC file with changes\n",
    "opc.save('umstead.OPC')"
   ]
  },
  {
   "cell_type": "markdown",
   "id": "d6d4f22d",
   "metadata": {},
   "source": [
    "## 6) Single-site simulation (`Site`, `EPICModel`)"
   ]
  },
  {
   "cell_type": "code",
   "execution_count": null,
   "id": "3e2cf2e6",
   "metadata": {},
   "outputs": [],
   "source": [
    "from geoEpic.core import Site, EPICModel\n",
    "\n",
    "# create a site object\n",
    "site = Site(\n",
    "    site_id = 'NE-2',\n",
    "    opc=str(workspace_dir/'opc'/'site.OPC'),\n",
    "    dly=str(workspace_dir/'weather'/'site.DLY'),\n",
    "    sol=str(workspace_dir/'soil'/'site.SOL'),\n",
    "    sit=str(workspace_dir/'sites'/'site.SIT'),\n",
    ")\n",
    "\n",
    "# Execute the model at this particular site\n",
    "model = EPICModel(workspace_dir/'model'/'EPIC1102.exe')\n",
    "model.start_date = '2015-01-01'\n",
    "model.duration = 5 # years\n",
    "model.output_types = ['ACY', 'DGN']\n",
    "model.run(site)\n",
    "model.close()"
   ]
  },
  {
   "cell_type": "markdown",
   "id": "e37b9981",
   "metadata": {},
   "source": [
    "#### Reading outputs (`ACY`, `DGN`)"
   ]
  },
  {
   "cell_type": "code",
   "execution_count": null,
   "id": "5ed74f6c",
   "metadata": {},
   "outputs": [],
   "source": [
    "from geoEpic.io import ACY, DGN, DWC\n",
    "import matplotlib.pyplot as plt\n",
    "\n",
    "yields = ACY(site).get_var('YLDG')\n",
    "lai = DGN(site).get_var('LAI')\n",
    "\n",
    "plt.figure(figsize=(4, 3))\n",
    "plt.plot(lai['LAI'], marker='o')\n",
    "plt.title(\"Leaf Area Index\")\n",
    "plt.xlabel(\"Day\")\n",
    "plt.ylabel(\"LAI\")\n",
    "plt.show()"
   ]
  },
  {
   "cell_type": "markdown",
   "id": "db620ed4",
   "metadata": {},
   "source": [
    "<!-- <div align=\"center\"> -->\n",
    " <img src=\"./tutorial_assests/corn.png\" width=\"60%\">\n",
    "<!-- </div> -->"
   ]
  },
  {
   "cell_type": "markdown",
   "id": "f33e17bb",
   "metadata": {},
   "source": [
    "## 8) Managing multiple sites with `Workspace` class\n",
    "\n",
    "The Workspace class is a powerful component of GeoEPIC that enables efficient management and execution of EPIC simulations across multiple sites, significantly streamlining the workflow for regional-scale agricultural modeling studies. \n",
    "A Workspace object is initialized by two key configuration elements: \n",
    "(1) configuration file that specifies global simulation settings\n",
    "(2) run_info file containing metadata on individual simulation sites. "
   ]
  },
  {
   "cell_type": "code",
   "execution_count": null,
   "id": "0e784ca9",
   "metadata": {},
   "outputs": [],
   "source": [
    "exp = Workspace(workspace_dir/'config.yml')\n",
    "exp.clear_logs()\n",
    "exp.clear_outputs()\n",
    "\n",
    "exp.run()"
   ]
  },
  {
   "cell_type": "code",
   "execution_count": null,
   "id": "8afa38df",
   "metadata": {},
   "outputs": [],
   "source": [
    "Path(workspace_dir/'lai_export').mkdir(exist_ok=True, parents=True)\n",
    " \n",
    "# save Yield data to csv files for each site\n",
    "@exp.routine\n",
    "def save_lai(site):\n",
    "    lai = DGN(site).get_var('LAI')\n",
    "    lai.to_csv(workspace_dir/f'lai_export/{site.site_id}.csv')\n",
    "    \n",
    "# calculate average annual ET for soybean and log them\n",
    "@exp.logger\n",
    "def avg_annual_et(site):\n",
    "    daily_et = DWC(site).get_var('ET')\n",
    "    filtered_data = daily_et[(daily_et['ET'] > 0.05) \n",
    "                           & (daily_et['Y'].between(2017, 2020)) \n",
    "                           & (daily_et['M'].between(5, 9))]\n",
    "    # sum ET by year\n",
    "    annual_et = filtered_data.groupby('Y')['ET'].sum().reset_index()\n",
    "    # get average ET for soybean\n",
    "    soyb_data = annual_et[annual_et['CPNM'] == 'SOYB']\n",
    "    avg_et_soyb = soyb_data['ET'].mean() if not soyb_data.empty else None\n",
    "    return {'SOYB_ET': avg_et_soyb}\n",
    "\n",
    "exp.run()"
   ]
  },
  {
   "cell_type": "markdown",
   "id": "a57d1c8e",
   "metadata": {},
   "source": [
    "#### Spatial plot of Average annual Evapotranspiration"
   ]
  },
  {
   "cell_type": "code",
   "execution_count": null,
   "id": "9f0807fb",
   "metadata": {},
   "outputs": [],
   "source": [
    "from tutorial_assets import spatial_plot\n",
    "\n",
    "logged_et = exp.fetch_log('avg_annual_et')\n",
    "spatial_plot('Mead_NE.shp', logged_et)"
   ]
  },
  {
   "cell_type": "markdown",
   "id": "5a33445a",
   "metadata": {},
   "source": [
    "<!-- <div align=\"center\"> -->\n",
    " <img src=\"./tutorial_assests/ET_annual_soybean.png\" width=\"60%\">\n",
    "<!-- </div> -->"
   ]
  },
  {
   "cell_type": "markdown",
   "id": "8d445dc0",
   "metadata": {},
   "source": [
    "## 9) Calibration WorkFlow\n",
    "\n",
    "The calibration setup involves defining a fitness criterion that quantifies the difference between simulated outputs and observed data and selecting the parameters that significantly influence the required outputs. The figure shows the overview of Calibration iterations in GeoEPIC.\n",
    "\n",
    "<!-- <div align=\"center\"> -->\n",
    " <img src=\"./tutorial_assests/model_calibration.png\" width=\"60%\">\n",
    "<!-- </div> -->\n",
    "\n",
    "The steps involved in the setup are shown below:\n",
    "1. Define a logger to compute per-site error(s) after each simulation.\n",
    "2. Define an objective to aggregate logged metrics.\n",
    "3. Mark sensitive parameters in `CropCom`/`Parm`, then build a PyGMO problem via `exp.make_problem(...)`.\n",
    "4. Choose an algorithm (e.g., PSO) and optimize."
   ]
  },
  {
   "cell_type": "code",
   "execution_count": null,
   "id": "51647ec6",
   "metadata": {},
   "outputs": [],
   "source": [
    "exp.config['select'] = 'ET == 1'\n",
    "\n",
    "@exp.logger\n",
    "def et_error(site):\n",
    "    # Get daily ET from EPIC simulation\n",
    "    daily_et = DWC(site).get_var('ET')\n",
    "    filtered_data = daily_et[(daily_et['ET'] > 0.05) \n",
    "                           & (daily_et['Y'].between(2017, 2020)) \n",
    "                           & (daily_et['M'].between(5, 9))]\n",
    "    # Load target ET data for this site\n",
    "    target_et = pd.read_csv(f'./target_et/{site.site_id}.csv')\n",
    "    target_et['date'] = pd.to_datetime(target_et['date'])\n",
    "    # Merge on date (intersection)\n",
    "    merged_data = pd.merge(filtered_data, target_et, on='date', how='inner')\n",
    "    # Calculate year-wise error for soybean crop\n",
    "    soyb_data = merged_data[merged_data['CPNM'] == 'SOYB']\n",
    "    if soyb_data.empty: return {'error': None}\n",
    "    # Group by year and sum ET values\n",
    "    sim_annual = soyb_data.groupby('Y')['ET'].sum()  # simulation ET\n",
    "    obs_annual = soyb_data.groupby('Y')['ET_obs'].sum()  # observed ET\n",
    "    # Calculate year-wise RMSE using numpy\n",
    "    year_rmse = np.sqrt(np.mean((sim_annual - obs_annual) ** 2))\n",
    "    return {'error': year_rmse}\n",
    "\n",
    "@exp.objective\n",
    "def aggregate():\n",
    "    logged = exp.fetch_log('et_error').dropna()\n",
    "    return [logged['error'].mean()]\n",
    "\n",
    "exp.run()"
   ]
  },
  {
   "cell_type": "markdown",
   "id": "59c4051c",
   "metadata": {},
   "source": [
    "### Compare simulated and observed ET"
   ]
  },
  {
   "cell_type": "code",
   "execution_count": null,
   "id": "a177d144",
   "metadata": {},
   "outputs": [
    {
     "ename": "ModuleNotFoundError",
     "evalue": "No module named 'tutorial_assets'",
     "output_type": "error",
     "traceback": [
      "\u001b[1;31m---------------------------------------------------------------------------\u001b[0m",
      "\u001b[1;31mModuleNotFoundError\u001b[0m                       Traceback (most recent call last)",
      "Cell \u001b[1;32mIn[7], line 1\u001b[0m\n\u001b[1;32m----> 1\u001b[0m \u001b[38;5;28;01mfrom\u001b[39;00m \u001b[38;5;21;01mtutorial_assets\u001b[39;00m \u001b[38;5;28;01mimport\u001b[39;00m compare_et\n\u001b[0;32m      2\u001b[0m compare_et()\n",
      "\u001b[1;31mModuleNotFoundError\u001b[0m: No module named 'tutorial_assets'"
     ]
    },
    {
     "ename": "",
     "evalue": "",
     "output_type": "error",
     "traceback": [
      "\u001b[1;31mThe Kernel crashed while executing code in the current cell or a previous cell. \n",
      "\u001b[1;31mPlease review the code in the cell(s) to identify a possible cause of the failure. \n",
      "\u001b[1;31mClick <a href='https://aka.ms/vscodeJupyterKernelCrash'>here</a> for more info. \n",
      "\u001b[1;31mView Jupyter <a href='command:jupyter.viewOutput'>log</a> for further details."
     ]
    }
   ],
   "source": [
    "from tutorial_assets import compare_et\n",
    "compare_et()"
   ]
  },
  {
   "cell_type": "markdown",
   "id": "a2df221a",
   "metadata": {},
   "source": [
    "#### Setting sensitive parameters"
   ]
  },
  {
   "cell_type": "code",
   "execution_count": null,
   "id": "85b7679f",
   "metadata": {},
   "outputs": [],
   "source": [
    "cropcom = CropCom(exp.model.path)\n",
    "cropcom.set_sensitive(['WA','HI','WSYF'], [2])\n",
    "cropcom.prms"
   ]
  },
  {
   "cell_type": "code",
   "execution_count": null,
   "id": "c4e0f542",
   "metadata": {},
   "outputs": [],
   "source": [
    "parm = Parm(exp.model.path)\n",
    "parm.set_sensitive(['PARM28','PARM68'])\n",
    "parm.prms"
   ]
  },
  {
   "cell_type": "markdown",
   "id": "dbbf309e",
   "metadata": {},
   "source": [
    "#### Create a optimization problem to interface with pygmo library "
   ]
  },
  {
   "cell_type": "code",
   "execution_count": null,
   "id": "b5865f03",
   "metadata": {},
   "outputs": [],
   "source": [
    "problem = exp.make_problem(cropcom, parm)"
   ]
  },
  {
   "cell_type": "markdown",
   "id": "a7e6830e",
   "metadata": {},
   "source": [
    "\n",
    "Refer to the PyGMO [documentation](https://esa.github.io/pygmo2/algorithms.html) to experiment with different algorithms and customizable parameters to find the most effective optimization strategy."
   ]
  },
  {
   "cell_type": "code",
   "execution_count": null,
   "id": "943fde7c",
   "metadata": {},
   "outputs": [],
   "source": [
    "import pygmo as pg\n",
    "# Initialize the problem with PSO algorithm\n",
    "problem.init(algorithm = pg.pso_gen, memory=True)\n",
    "problem.optimize(population_size = 30, generations = 10)"
   ]
  },
  {
   "cell_type": "markdown",
   "id": "b62476fa",
   "metadata": {},
   "source": [
    "<!-- <code> -->\n",
    "<div style=\"font-family:'Consolas','Courier New',monospace;color:rgb(60, 60, 60)\">\n",
    "Fitness before optimization: [3.0133333]<br>\n",
    "Setting Initial Population<br>\n",
    "optimizing...\n",
    "</div>\n",
    "<div style=\"font-family:Consolas,'Courier New',monospace;color:rgb(60,60,60)\">\n",
    "  100%|██████████| 10/10 [11:10<00:00, 67.05s/gen, best_fitness=0.776]<br>\n",
    "  Final best fitness: [0.776]\n",
    "</div>"
   ]
  },
  {
   "cell_type": "markdown",
   "id": "7fafb92d",
   "metadata": {},
   "source": [
    "## 10) Troubleshooting & Tips\n",
    "\n",
    "- Check `log/` for errors during model execution;\n",
    "- Start with a small subset of sites: `select: Random(0.05)`.\n",
    "- Edit `.sens` file in the model folder to set valid range for parameters\n",
    "- Begin calibration with a few sensitive parameters; expand gradually.\n",
    "- Edit `exp.num_of_workers` to expand or constrain the no of parallel simulations."
   ]
  },
  {
   "cell_type": "markdown",
   "id": "e0e051ad",
   "metadata": {},
   "source": []
  }
 ],
 "metadata": {
  "kernelspec": {
   "display_name": "epic_env",
   "language": "python",
   "name": "python3"
  },
  "language_info": {
   "codemirror_mode": {
    "name": "ipython",
    "version": 3
   },
   "file_extension": ".py",
   "mimetype": "text/x-python",
   "name": "python",
   "nbconvert_exporter": "python",
   "pygments_lexer": "ipython3",
   "version": "3.11.13"
  }
 },
 "nbformat": 4,
 "nbformat_minor": 5
}
