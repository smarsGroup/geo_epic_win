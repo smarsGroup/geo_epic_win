{
 "cells": [
  {
   "cell_type": "code",
   "execution_count": null,
   "metadata": {},
   "outputs": [],
   "source": [
    "import ee\n",
    "from geoEpic.gee import CompositeCollection"
   ]
  },
  {
   "cell_type": "code",
   "execution_count": null,
   "metadata": {},
   "outputs": [],
   "source": [
    "# conda create --name geo_epic python=3.11.9\n",
    "# conda activate geo_epic\n",
    "# pip install git+https://github.com/smarsGroup/geo-epic.git"
   ]
  },
  {
   "cell_type": "code",
   "execution_count": 49,
   "metadata": {},
   "outputs": [],
   "source": [
    "col =  CompositeCollection('./HLS.yml')"
   ]
  },
  {
   "cell_type": "code",
   "execution_count": null,
   "metadata": {},
   "outputs": [],
   "source": [
    "#Extract hls the time series of a location\n",
    "df = col.extract([[-98.114, 41.855]])\n",
    "df"
   ]
  },
  {
   "cell_type": "code",
   "execution_count": null,
   "metadata": {},
   "outputs": [],
   "source": [
    "hls_ee = col.merged()\n",
    "# hls_ee can be used as a normal earth engine collection.\n",
    "hls_ee\n"
   ]
  },
  {
   "cell_type": "code",
   "execution_count": 53,
   "metadata": {},
   "outputs": [],
   "source": [
    "# Below is an eaxmple of calculating and exporting ndvi.\n",
    "# Filter collection to a rectangle in Nebraska\n",
    "nebraska = ee.Geometry.Rectangle([-99.5, 41.0, -99.0, 41.5])\n",
    "hls_ee_filtered =  hls_ee.filterBounds(nebraska)\n",
    "   \n",
    "# Function to calculate NDVI\n",
    "def calc_NDVI(image):\n",
    "    ndvi = image.normalizedDifference(['nir', 'red']).rename('NDVI')\n",
    "    return ndvi\n",
    "\n",
    "# Map the NDVI function over the collection\n",
    "NDVI = hls_ee_filtered.map(calc_NDVI)"
   ]
  },
  {
   "cell_type": "code",
   "execution_count": 54,
   "metadata": {},
   "outputs": [],
   "source": [
    "# clip NDVI and export to google drive\n",
    "clippedNDVI = NDVI.mean().clip(nebraska)\n",
    "\n",
    "task = ee.batch.Export.image.toDrive(\n",
    "    image=clippedNDVI,\n",
    "    description='Nebraska_NDVI_2020',\n",
    "    scale=30,\n",
    "    region=nebraska)\n",
    "task.start()"
   ]
  },
  {
   "cell_type": "code",
   "execution_count": 2,
   "metadata": {},
   "outputs": [],
   "source": [
    "#check status to see if export is completed\n",
    "task.status()"
   ]
  }
 ],
 "metadata": {
  "kernelspec": {
   "display_name": "geo_epic",
   "language": "python",
   "name": "python3"
  },
  "language_info": {
   "codemirror_mode": {
    "name": "ipython",
    "version": 3
   },
   "file_extension": ".py",
   "mimetype": "text/x-python",
   "name": "python",
   "nbconvert_exporter": "python",
   "pygments_lexer": "ipython3",
   "version": "3.11.9"
  }
 },
 "nbformat": 4,
 "nbformat_minor": 2
}
